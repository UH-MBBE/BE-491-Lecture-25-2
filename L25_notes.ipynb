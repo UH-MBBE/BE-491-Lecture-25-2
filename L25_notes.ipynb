{
 "cells": [
  {
   "cell_type": "markdown",
   "metadata": {},
   "source": [
    "# Transformers\n",
    "\n",
    "Note: it's important to use accelerate==0.21.0 and transformers==4.31.0"
   ]
  },
  {
   "cell_type": "markdown",
   "metadata": {},
   "source": [
    "### Set up imports"
   ]
  },
  {
   "cell_type": "code",
   "execution_count": 1,
   "metadata": {},
   "outputs": [
    {
     "name": "stderr",
     "output_type": "stream",
     "text": [
      "/Users/garrettroell/ai_for_bio_be_491/lectures/BE-491-Lecture-25/venv/lib/python3.10/site-packages/tqdm/auto.py:21: TqdmWarning: IProgress not found. Please update jupyter and ipywidgets. See https://ipywidgets.readthedocs.io/en/stable/user_install.html\n",
      "  from .autonotebook import tqdm as notebook_tqdm\n"
     ]
    }
   ],
   "source": [
    "import os\n",
    "os.environ['PYTORCH_MPS_HIGH_WATERMARK_RATIO'] = '0.95'\n",
    "os.environ['PYTORCH_MPS_LOW_WATERMARK_RATIO'] = '0.05'\n",
    "\n",
    "from transformers import GPT2LMHeadModel, GPT2Tokenizer\n",
    "from transformers import Trainer, TrainingArguments\n",
    "import torch\n",
    "from torch.utils.data import Dataset\n",
    "from torch.nn import DataParallel\n",
    "import requests\n",
    "\n"
   ]
  },
  {
   "cell_type": "markdown",
   "metadata": {},
   "source": [
    "### Get Yarrowia protein sequences"
   ]
  },
  {
   "cell_type": "code",
   "execution_count": 2,
   "metadata": {},
   "outputs": [],
   "source": [
    "# a function to get amino acid data from Yarrowia lipolytica\n",
    "def download_sequences():\n",
    "    # Define the URL for the API query\n",
    "    uniprot_api_endpoint = 'https://rest.uniprot.org/uniprotkb/stream?format=fasta&query=%28yarrowia+lipolytica%29'\n",
    "    \n",
    "    # Send a GET request to the UniProt API\n",
    "    response = requests.get(uniprot_api_endpoint)\n",
    "    \n",
    "    # Check if the request was successful\n",
    "    if response.status_code == 200:\n",
    "        # Print or save the sequences\n",
    "        return response.text  # or save to a file\n",
    "    else:\n",
    "        print(\"Failed to retrieve data:\", response.status_code)\n",
    "        return ''"
   ]
  },
  {
   "cell_type": "code",
   "execution_count": 3,
   "metadata": {},
   "outputs": [
    {
     "data": {
      "text/plain": [
       "10661518"
      ]
     },
     "execution_count": 3,
     "metadata": {},
     "output_type": "execute_result"
    }
   ],
   "source": [
    "# Call the function to download sequences\n",
    "aa_sequences = download_sequences()\n",
    "\n",
    "len(aa_sequences)"
   ]
  },
  {
   "cell_type": "code",
   "execution_count": 4,
   "metadata": {},
   "outputs": [
    {
     "data": {
      "text/plain": [
       "17951"
      ]
     },
     "execution_count": 4,
     "metadata": {},
     "output_type": "execute_result"
    }
   ],
   "source": [
    "# split the amino acid data into separate strings for each protein\n",
    "aa_sequences = aa_sequences.split('>')\n",
    "\n",
    "len(aa_sequences)"
   ]
  },
  {
   "cell_type": "code",
   "execution_count": 5,
   "metadata": {},
   "outputs": [
    {
     "data": {
      "text/plain": [
       "''"
      ]
     },
     "execution_count": 5,
     "metadata": {},
     "output_type": "execute_result"
    }
   ],
   "source": [
    "# look at the first protein sequence\n",
    "aa_sequences[0]"
   ]
  },
  {
   "cell_type": "code",
   "execution_count": 6,
   "metadata": {},
   "outputs": [
    {
     "data": {
      "text/plain": [
       "''"
      ]
     },
     "execution_count": 6,
     "metadata": {},
     "output_type": "execute_result"
    }
   ],
   "source": [
    "# look at the first protein sequence\n",
    "aa_sequences[0][:200]"
   ]
  },
  {
   "cell_type": "code",
   "execution_count": 7,
   "metadata": {},
   "outputs": [
    {
     "data": {
      "text/plain": [
       "0"
      ]
     },
     "execution_count": 7,
     "metadata": {},
     "output_type": "execute_result"
    }
   ],
   "source": [
    "len(aa_sequences[0])"
   ]
  },
  {
   "cell_type": "markdown",
   "metadata": {},
   "source": [
    "### Create lists of amino acid sequences and enzyme names"
   ]
  },
  {
   "cell_type": "code",
   "execution_count": 8,
   "metadata": {},
   "outputs": [
    {
     "name": "stdout",
     "output_type": "stream",
     "text": [
      "Skipping sequence\n"
     ]
    }
   ],
   "source": [
    "clean_sequences = []\n",
    "\n",
    "# remove all non amino acid text\n",
    "for seq in aa_sequences:\n",
    "    label = seq.split('OS=')[0]\n",
    "\n",
    "    label_parts = label.split(' ')\n",
    "\n",
    "    label_parts = label_parts[1:]\n",
    "\n",
    "    # combine the label parts\n",
    "    label = ' '.join(label_parts)\n",
    "\n",
    "    if 'SV=' not in seq:\n",
    "        print('Skipping sequence')\n",
    "        continue\n",
    "        \n",
    "    else:\n",
    "        clean_seq = seq.split('SV=')[1]\n",
    "\n",
    "        # remove new line characters\n",
    "        clean_seq = clean_seq.replace('\\n', '')\n",
    "\n",
    "        # remove the first two characters\n",
    "        clean_seq = clean_seq[2:]\n",
    "\n",
    "        # shorten to just the first 256 characters\n",
    "        # clean_seq = clean_seq[:256]\n",
    "\n",
    "        # add the sequence to the list\n",
    "        clean_sequences.append(f'{label}: {clean_seq}')\n"
   ]
  },
  {
   "cell_type": "code",
   "execution_count": 9,
   "metadata": {},
   "outputs": [
    {
     "name": "stdout",
     "output_type": "stream",
     "text": [
      "Pentafunctional AROM polypeptide : FAEGQIQKVPILGKESIHIGYKMQDHIVSEIVANIKSSTYILVTDTNIEDLGYVESLKTKFEAAFAKDGIKSRLLTYTVAPGETSKSRATKAAIEDWMLSKGCTRDTVILAVGGGVIGDMIGYVAATFMRGVRFVQIPTTLLAMVDSSIGGKTAIDTPLGKNLVGAFWQPVNIFIDTSFLETLPVREFINGMAEVIKTAAFYDAEEFTRLESASEIFLSTIKKRDAKDPRRVDLSPITDTIGRIVLGSARIKAAVVSADEREGGLRNLLNFGHSIGHAYEAILTPYILHGECVAIGMVKEAELSRYLGILSPVAVARLAKCIKAYELPVSLDDATVKARSHGKKCPVDDLLRIMGVDKKNDGSTKKIVILSAIGKTHEQKASSVADKDIRFVLSEEVIVGEAPVGDKKSYTVTPPGSKSISNRAFVLTALGKGPCKLRNLLHSDDTQHMLEAIELLGGASFEWEADGETLLVTGNGGKLTAPAQELYLGNAGTASRFLTTAATLVQKGDKDHVILTGNKRMQERPIGPLVDALRSNGADIAFQNAEGSLPLKIEAGVGLKGGLIEVAATVSSQYVSSLLMCAPYAQTPVTLSLVGGKPISQFYIDMTIAMMADFGVVVTKDETKEHTYHIPQGVYTNPEEYVVESDASSATYPLAYAAMTGHTVTVPNIGSKSLQGDARFAIDVLKAMGCTVEQTATSTTVTGVPNLKAIAVDMEPMTDAFLTACVVAAVSEGTTVITGIANQRVKECNRIEAMRVQLAKYGVVCRELEDGIEVDGISRSDLKTPVSVHSYDDHRVAMSFSLLSSIMAAPVAIEERRCVEKTWPGWWDVLSGVFNVPLEGVTLAKTVSKAESGLSKPSIFIVGMRGAGKTHLGAQAANHLGYEFIDLDQLLEKDLDTTIPQLIADKGWDHFRAEELRLLKQCLNDKSEGYVISCGGGVVETPAARDALQTFKGVGGIVLHVHRPVSRILEYLNKDQSRPAFVDDLEAVWQRRKELYRSVSSNVFFAPHCDSAEATAKVQQMLGAFLDRVTGKSEFVIPHKDQFTSFLSLTFPDVSIAATMLPSLSEGCSALELRVDLLNENDEAIPSEEYVLSQLAILRQNVDLPILYTVRTKAQGGRFPDDKPVELANLVNLGLKTAVELLDVELTYPAELVSSVGASRGYTKLLGSHHDFPGALNWSSLEWENMYARAEAVPVDVVKLVGMAKSFSDNFALENFREAHTSSPLLAINMGSHGQLSRVTNTLLTPVTHADLPVAAAPGQLSVEEINQTRSTIGMFNKNLSFFIVGTPIGHSKSPILHNTMFKKLGLPYEYSRFKTDDAAAVNAKARALLAQGNLGGISVTIPLKQDIIPFLDEVSPLAQQIGAVNTIIPGPNGTLKGDNTDILGLVNALTRFGANSLDKKTALIVGAGGTSLAAVHGLRSLGFAKILIANRTLSKAEAIADKFDNVEAVTLDSFVANKYTPSVIVSCVPATTFSMLDESNKLVSAALAASPKGLVLEAAYSAEATPLLKQVMDVEGWEFISGLYMLTEQGFEQFRLWTGIPAPKEVGEKAVLGN\n",
      "\n",
      "Fatty acid photodecarboxylase, chloroplastic : ASITSRASARASCSQANTRAGRVALSGGALLRPARPARSFVPARKQQQGAVRRGGALSARASAVEDIRKVLSDSSSPVAGQKYDYILVGGGTAACVLANRLSADGSKRVLVLEAGPDNTSRDVKIPAAITRLFRSPLDWNLFSELQEQLAERQIYMARGRLLGGSSATNATLYHRGAAGDYDAWGVEGWSSEDVLSWFVQAETNADFGPGAYHGSGGPMRVENPRYTNKQLHTAFFKAAEEVGLTPNSDFNDWSHDHAGYGTFQVMQDKGTRADMYRQYLKPVLGRRNLQVLTGAAVTKVNIDQAAGKAQALGVEFSTDGPTGERLSAELAPGGEVIMCAGAVHTPFLLKHSGVGPSAELKEFGIPVVSNLAGVGQNLQDQPACLTAAPVKEKYDGIAISDHIYNEKGQIRKRAIASYLLGGRGGLTSTGCDRGAFVRTAGQALPDLQVRFVPGMALDPDGVSTYVRFAKFQSQGLKWPSGITMQLIACRPQSTGSVGLKSADPFAPPKLSPGYLTDKDGADLATLRKGIHWARDVARSSALSEYLDGELFPGSGVVSDDQIDEYIRRSIHSSNAITGTCKMGNAGDSSSVVDNQLRVHGVEGLRVVDASVVPKIPGGQTGAPVVMIAERAAALLTGKATIGASAAAPATVAA\n",
      "\n",
      "Fatty acyl-CoA reductase 6, chloroplastic : ATTNVLATSHAFKLNGVSYFSSFPRKPNHYMPRRRLSHTTRRVQTSCFYGETSFEAVTSLVTPKTETSRNSDGIGIVRFLEGKSYLVTGATGFLAKVLIEKLLRESLEIGKIFLLMRSKDQESANKRLYDEIISSDLFKLLKQMHGSSYEAFMKRKLIPVIGDIEEDNLGIKSEIANMISEEIDVIISCGGRTTFDDRYDSALSVNALGPGRLLSFGKGCRKLKLFLHFSTAYVTGKREGTVLETPLCIGENITSDLNIKSELKLASEAVRKFRGREEIKKLKELGFERAQHYGWENSYTFTKAIGEAVIHSKRGNLPVVIIRPSIIESSYNEPFPGWIQGTRMADPIILAYAKGQISDFWADPQSLMDIIPVDMVANAAIAAMAKHGCGVPEFKVYNLTSSSHVNPMRAGKLIDLSHQHLCDFPLEETVIDLEHMKIHSSLEGFTSALSNTIIKQERVIDNEGGGLSTKGKRKLNYFVSLAKTYEPYTFFQARFDNTNTTSLIQEMSMEEKKTFGFDIKGIDWEHYIVNVHLPGLKKEFLSKKKTE\n",
      "\n",
      "Fatty acid synthase subunit beta : DAYSTRPLTLSHGSLEHVLLVPTASFFIASQLQEQFNKILPEPTEGFAADDEPTTPAELVGKFLGYVSSLVEPSKVGQFDQVLNLCLTEFENCYLEGNDIHALAAKLLQENDTTLVKTKELIKNYITARIMAKRPFDKKSNSALFRAVGEGNAQLVAIFGGQGNTDDYFEELRDLYQTYHVLVGDLIKFSAETLSELIRTTLDAEKVFTQGLNILEWLENPSNTPDKDYLLSIPISCPLIGVIQLAHYVVTAKLLGFTPGELRSYLKGATGHSQGLVTAVAIAETDSWESFFVSVRKAITVLFFIGVRCYEAYPNTSLPPSILEDSLENNEGVPSPMLSISNLTQEQVQDYVNKTNSHLPAGKQVEISLVNGAKNLVVSGPPQSLYGLNLTLRKAKAPSGLDQSRIPFSERKLKFSNRFLPVASPFHSHLLVPASDLINKDLVKNNVSFNAKDIQIPVYDTFDGSDLRVLSGSISERIVDCIIRLPVKWETTTQFKATHILDFGPGGASGLGVLTHRNKDGTGVRVIVAGTLDINPDDDYGFKQEIFDVTSNGLKKNPNWLEEYHPKLIKNKSGKIFVETKFSKLIGRPPLLVPGMTPCTVSPDFVAATTNAGYTIELAGGGYFSAAGMTAAIDSVVSQIEKGSTFGINLIYVNPFMLQWGIPLIKELRSKGYPIQFLTIGAGVPSLEVASEYIETLGLKYLGLKPGSIDAISQVINIAKAHPNFPIALQWTGGRGGGHHSFEDAHTPMLQMYSKIRRHPNIMLIFGSGFGSADDTYPYLTGEWSTKFDYPPMPFDGFLFGSRVMIAKEVKTSPDAKKCIAACTGVPDDKWEQTYKKPTGGIVTVRSEMGEPIHKIATRGVMLWKEFDETIFNLPKNKLVPTLEAKRDYIISRLNADFQKPWFATVNGQARDLATMTYEEVAKRLVELMFIRSTNSWFDVTWRTFTGDFLRRVEERFTKSKTLSLIQSYSLLDKPDEAIEKVFNAYPAAREQFLNAQDIDHFLSMCQNPMQKPVPFVPVLDRRFEIFFKKDSLWQSEHLEAVVDQDVQRTCILHGPVAAQFTKVIDEPIKSIMDGIHDGHIKKLLHQYYGDDESKIPAVEYFGGESPVDVQSQVDSSSVSEDSAVFKATSSTDEESWFKALAGSEINWRHASFLCSFITQDKMFVSNPIRKVFKPSQGMVVEISNGNTSSKTVVTLSEPVQGELKPTVILKLLKENIIQMEMIENRTMDGKPVSLPLLYNFNPDNGFAPISEVMEDRNQRIKEMYWKLWIDEPFNLDFDPRDVIKGKDFEITAKEVYDFTHAVGNNCEDFVSRPDRTMLAPMDFAIVVGWRAIIKAIFPNTVDGDLLKLVHLSNGYKMIPGAKPLQVGDVVSTTAVIESVVNQPTGKIVDVVGTLSRNGKPVMEVTSSFFYRGNYTDFENTFQKTVEPVYQMHIKTSKDIAVLRSKEWFQLDDEDFDLLNKTLTFETETEVTFKNANIFSSVKCFGPIKVELPTKETVEIGIVDYEAGASHGNPVVDFLKRNGSTLEQKVNLENPIPIAVLDSYTPSTNEPYARVSGDLNPIHVSRHFASYANLPGTITHGMFSSASVRALIENWAADSVSSRVRGYTCQFVDMVLPNTALKTSIQHVGMINGRKLIKFETRNEDDVVVLTGEAEIEQPVTTFVFTGQGSQEQGMGMDLYKTSKAAQDVWNRADNHFKDTYGFSILDIVINNPVNLTIHFGGEKGKRIRENYSAMIFETIVDGKLKTEKIFKEINEHSTSYTFRSEKGLLSATQFTQPALTLMEKAAFEDLKSKGLIPADATFAGHSLGEYAALASLADVMSIESLVEVVFYRGMTMQVAVPRDELGRSNYGMIAINPGRVAASFSQEALQYVVERVGKRTGWLVEIVNYNVENQQYVAAGDLRALDTVTNVLNFIKLQKIDIIELQKSLSLEEVEGHLFEIIDEASKKSAVKPRPLKLERGFACIPLVGISVPFHSTYLMNGVKPFKSFLKKNIIKENVKVARLAGKYIPNLTAKPFQVTKEYFQDVYDLTGSEPIKEIIDNWEKYEQS\n",
      "\n",
      "Alkaline extracellular protease : KLATAFTILTAVLAAPLAAPAPAPDAAPAAVPEGPAAAAYSSILSVVAKQSKKFKHHKRDLDEKDQFIVVFDSSATVDQIASEIQKLDSLVDEDSSNGITSALDLPVYTDGSGFLGFVGKFNSTIVDKLKESSVLTVEPDTIVSLPEIPASSNAKRAIQTTPVTQWGLSRISHKKAQTGNYAYVRETVGKHPTVSYVVDSGIRTTHSEFGGRAVWGANFADTQNADLLGHGTHVAGTVGGKTYGVDANTKLVAVKVFAGRSAALSVINQGFTWALNDYISKRDTLPRGVLNFSGGGPKSASQDALWSRATQEGLLVAIAAGNDAVDACNDSPGNIGGSTSGIITVGSIDSSDKISVWSGGQGSNYGTCVDVFAPGSDIISASYQSDSGTLVYSGTSMACPHVAGLASYYLSINDEVLTPAQVEALITESNTGVLPTTNLKGSPNAVAYNGVGI\n",
      "\n"
     ]
    }
   ],
   "source": [
    "# print first five sequeces\n",
    "for i in range(5):\n",
    "    # print(labels[i])\n",
    "    print(clean_sequences[i])\n",
    "    print()"
   ]
  },
  {
   "cell_type": "code",
   "execution_count": 23,
   "metadata": {},
   "outputs": [],
   "source": [
    "# only use the first 5000 sequences\n",
    "clean_sequences = clean_sequences[:5000]"
   ]
  },
  {
   "cell_type": "markdown",
   "metadata": {},
   "source": [
    "### Define the tokenizer"
   ]
  },
  {
   "cell_type": "code",
   "execution_count": 24,
   "metadata": {},
   "outputs": [
    {
     "data": {
      "text/plain": [
       "1"
      ]
     },
     "execution_count": 24,
     "metadata": {},
     "output_type": "execute_result"
    }
   ],
   "source": [
    "# Assuming you are using only standard amino acid letters which GPT2 can handle, otherwise you need to customize it.\n",
    "tokenizer = GPT2Tokenizer.from_pretrained('gpt2')\n",
    "tokenizer.add_special_tokens({'pad_token': '[PAD]'})\n"
   ]
  },
  {
   "cell_type": "markdown",
   "metadata": {},
   "source": [
    "### Define the model"
   ]
  },
  {
   "cell_type": "code",
   "execution_count": 39,
   "metadata": {},
   "outputs": [
    {
     "data": {
      "text/plain": [
       "Embedding(50258, 768)"
      ]
     },
     "execution_count": 39,
     "metadata": {},
     "output_type": "execute_result"
    }
   ],
   "source": [
    "model = GPT2LMHeadModel.from_pretrained('gpt2')\n",
    "model.resize_token_embeddings(len(tokenizer))\n",
    "\n",
    "# model = DataParallel(model)"
   ]
  },
  {
   "cell_type": "markdown",
   "metadata": {},
   "source": [
    "### Model fine-tuning"
   ]
  },
  {
   "cell_type": "code",
   "execution_count": 40,
   "metadata": {},
   "outputs": [],
   "source": [
    "class ProteinDataset(Dataset):\n",
    "    def __init__(self, sequences, tokenizer, max_length):\n",
    "        # Tokenize all sequences\n",
    "        self.encodings = tokenizer(sequences, max_length=max_length, truncation=True, padding=\"max_length\", return_tensors=\"pt\")\n",
    "\n",
    "    def __len__(self):\n",
    "        return len(self.encodings['input_ids'])\n",
    "\n",
    "    def __getitem__(self, idx):\n",
    "        # This method should return a dictionary with the keys the model expects\n",
    "        item = {key: self.encodings[key][idx] for key in self.encodings}\n",
    "        item['labels'] = item['input_ids'].clone()\n",
    "        return item\n",
    "\n",
    "# Create the dataset\n",
    "# max_length = 256  # Max length of sequences\n",
    "# max_length = 1024  # Max length of sequences\n",
    "max_length = 512  # Max length of sequences\n",
    "dataset = ProteinDataset(clean_sequences, tokenizer, max_length)\n"
   ]
  },
  {
   "cell_type": "code",
   "execution_count": 46,
   "metadata": {},
   "outputs": [],
   "source": [
    "training_args = TrainingArguments(\n",
    "    output_dir='./results',          # output directory\n",
    "    num_train_epochs=1,              # number of training epochs\n",
    "    # gradient_accumulation_steps=4,  # Accumulates gradients across steps\n",
    "    per_device_train_batch_size=8,  # batch size for training\n",
    "    per_device_eval_batch_size=16,   # batch size for evaluation\n",
    "    warmup_steps=100,                # number of warmup steps for learning rate scheduler\n",
    "    weight_decay=0.01,               # strength of weight decay\n",
    "    logging_dir='./logs',            # directory for storing logs\n",
    "    logging_steps=100,\n",
    ")\n",
    "\n",
    "trainer = Trainer(\n",
    "    model=model,\n",
    "    args=training_args,\n",
    "    train_dataset=dataset,\n",
    ")\n"
   ]
  },
  {
   "cell_type": "code",
   "execution_count": 47,
   "metadata": {},
   "outputs": [
    {
     "name": "stderr",
     "output_type": "stream",
     "text": [
      "  1%|          | 15/1250 [01:11<1:37:32,  4.74s/it]\n",
      " 16%|█▌        | 100/625 [01:52<10:11,  1.16s/it]\n",
      " 16%|█▌        | 100/625 [01:52<10:11,  1.16s/it]"
     ]
    },
    {
     "name": "stdout",
     "output_type": "stream",
     "text": [
      "{'loss': 3.5028, 'learning_rate': 5e-05, 'epoch': 0.16}\n"
     ]
    },
    {
     "name": "stderr",
     "output_type": "stream",
     "text": [
      " 32%|███▏      | 200/625 [03:43<07:44,  1.09s/it]\n",
      " 32%|███▏      | 200/625 [03:43<07:44,  1.09s/it]"
     ]
    },
    {
     "name": "stdout",
     "output_type": "stream",
     "text": [
      "{'loss': 3.0357, 'learning_rate': 4.047619047619048e-05, 'epoch': 0.32}\n"
     ]
    },
    {
     "name": "stderr",
     "output_type": "stream",
     "text": [
      " 48%|████▊     | 300/625 [05:33<05:57,  1.10s/it]\n",
      " 48%|████▊     | 300/625 [05:33<05:57,  1.10s/it]"
     ]
    },
    {
     "name": "stdout",
     "output_type": "stream",
     "text": [
      "{'loss': 2.9694, 'learning_rate': 3.095238095238095e-05, 'epoch': 0.48}\n"
     ]
    },
    {
     "name": "stderr",
     "output_type": "stream",
     "text": [
      " 64%|██████▍   | 400/625 [07:22<04:07,  1.10s/it]\n",
      " 64%|██████▍   | 400/625 [07:22<04:07,  1.10s/it]"
     ]
    },
    {
     "name": "stdout",
     "output_type": "stream",
     "text": [
      "{'loss': 3.0007, 'learning_rate': 2.1428571428571428e-05, 'epoch': 0.64}\n"
     ]
    },
    {
     "name": "stderr",
     "output_type": "stream",
     "text": [
      " 80%|████████  | 500/625 [09:13<02:18,  1.11s/it]\n",
      " 80%|████████  | 500/625 [09:13<02:18,  1.11s/it]"
     ]
    },
    {
     "name": "stdout",
     "output_type": "stream",
     "text": [
      "{'loss': 2.8896, 'learning_rate': 1.1904761904761905e-05, 'epoch': 0.8}\n"
     ]
    },
    {
     "name": "stderr",
     "output_type": "stream",
     "text": [
      " 96%|█████████▌| 600/625 [11:06<00:27,  1.09s/it]\n",
      " 96%|█████████▌| 600/625 [11:06<00:27,  1.09s/it]"
     ]
    },
    {
     "name": "stdout",
     "output_type": "stream",
     "text": [
      "{'loss': 2.9846, 'learning_rate': 2.3809523809523808e-06, 'epoch': 0.96}\n"
     ]
    },
    {
     "name": "stderr",
     "output_type": "stream",
     "text": [
      "100%|██████████| 625/625 [11:34<00:00,  1.10s/it]\n",
      "100%|██████████| 625/625 [11:34<00:00,  1.11s/it]"
     ]
    },
    {
     "name": "stdout",
     "output_type": "stream",
     "text": [
      "{'train_runtime': 694.1215, 'train_samples_per_second': 7.203, 'train_steps_per_second': 0.9, 'train_loss': 3.060752014160156, 'epoch': 1.0}\n"
     ]
    },
    {
     "name": "stderr",
     "output_type": "stream",
     "text": [
      "\n"
     ]
    },
    {
     "data": {
      "text/plain": [
       "TrainOutput(global_step=625, training_loss=3.060752014160156, metrics={'train_runtime': 694.1215, 'train_samples_per_second': 7.203, 'train_steps_per_second': 0.9, 'train_loss': 3.060752014160156, 'epoch': 1.0})"
      ]
     },
     "execution_count": 47,
     "metadata": {},
     "output_type": "execute_result"
    }
   ],
   "source": [
    "trainer.train()\n"
   ]
  },
  {
   "cell_type": "markdown",
   "metadata": {},
   "source": [
    "### Generate new protein outputs"
   ]
  },
  {
   "cell_type": "code",
   "execution_count": 48,
   "metadata": {},
   "outputs": [
    {
     "name": "stdout",
     "output_type": "stream",
     "text": [
      "Pyruvate Dehydrogenase: erythylalanine-protein kinase : SLLKLQKQKQQQQQQQQQQQQQQQQQQQQQQQQQQQQQQQQQQQQQQQQQQQQQQQQQQQQQQQQQQQQQQQQQQQQQQQQQQQQQQQQQQQQQQQQQQQQQQQQQQQQQQQQQQQQQQQQQQQQQQQQQQQQQQQQQQQQQQQQQQQQQQQQQQQQQQQQQQQQQQQQQQQQQQQQQQQQQQQQQQQQQQQQQQQQQQQQQQQQQQQQQQQQQQQQQQQQQQQQQQQQQQQQQQQQQQQQQQQQQQQQQQQQQQQQQQQQQQQQQQQQQQQQQQQQQQQQQQQQQQQQQQQQQQQQQQQQQQQQQQQQQQQQQQQQQQQQQQQQQQQQQQQQQQQQQQQQQQQQQQQQQQQQQQQQQQQQQQQQQQQQQQQQQQQQQQQQQQQQQQQQQQQQQQQQQQQQQQQQQQQQQQQQQQQQQQQQQQQQQQQQQQQQQQQQQQQQQQQQQQQQQQQQQQQQQQQQQQQQQQQQQQQQQQQQQQQQQQQQQQQQQQQQ\n",
      "\n"
     ]
    }
   ],
   "source": [
    "# Generate protein sequences with attention_mask and pad_token_id set\n",
    "prompt = 'Pyruvate Dehydrogenase: '\n",
    "input_ids = tokenizer.encode(prompt, return_tensors='pt')\n",
    "attention_mask = torch.ones(input_ids.shape, dtype=torch.long)  # Create an attention mask (all ones)\n",
    "\n",
    "# Ensure that the pad_token_id is set in the tokenizer and model\n",
    "if tokenizer.pad_token is None:\n",
    "    tokenizer.add_special_tokens({'pad_token': '[PAD]'})\n",
    "    model.resize_token_embeddings(len(tokenizer))\n",
    "\n",
    "# switch to cpu rather than gpu\n",
    "device = torch.device(\"cpu\")\n",
    "model.to(device)\n",
    "input_ids = input_ids.to(device)\n",
    "\n",
    "output = model.generate(\n",
    "    input_ids=input_ids,\n",
    "    attention_mask=attention_mask,\n",
    "    max_length=512,\n",
    "    num_return_sequences=1,\n",
    "    temperature=0.7,\n",
    "    pad_token_id=tokenizer.pad_token_id\n",
    ")\n",
    "\n",
    "decoded_output = [tokenizer.decode(ids, skip_special_tokens=True) for ids in output]\n",
    "for seq in decoded_output:\n",
    "    print(seq)\n",
    "    print()\n"
   ]
  },
  {
   "cell_type": "markdown",
   "metadata": {},
   "source": [
    "### Define a function for generating amino acid sequences"
   ]
  },
  {
   "cell_type": "code",
   "execution_count": 49,
   "metadata": {},
   "outputs": [
    {
     "data": {
      "text/plain": [
       "'Pyruvate Dehydrogenase erythrocyte : KQKQKQKQQQQQQQQQQQQQQQQQQQQQQQQQQQQQQQQQQQQQQQQQQQQQQQQQQQQQQQQQQQQQQQQQQQQQQQQQQQQQQQQQQQQQQQQQQQQQQQQQQQQQQQQQQQQQQQQQQQQQQQQQQQQQQQQQQQQQQQQQQQQQQQQQQQQQQQQQQQQQQQQQQQQQQQQQQQQQQQQQQQQQQQQQQQQQQQQQQQQQQQQQQQQQQQQQQQQQQQQQQQQQQQQQQQQQQQQQQQQQQQQQQQQQQQQQQQQQQQQQQQQQQQQQQQQQQQQQQQQQQQQQQQQQQQQQQQQQQQQQQQQQQQQQQQQQQQQQQQQQQQQQQQQQQQQQQQQQQQQQQQQQQQQQQQQQQQQQQQQQQQQQQQQQQQQQQQQQQQQQQQQQQQQQQQQQQQQQQQQQQQQQQQQQQQQQQQQQQQQQQQQQQQQQQQQQQQQQQQQQQQQQQQQQQQQQQQQQQQQQQQQQQQQQQQQQQQQQQQQQQQQQQQQQQQQQQQ'"
      ]
     },
     "execution_count": 49,
     "metadata": {},
     "output_type": "execute_result"
    }
   ],
   "source": [
    "def generate_aa_sequence(prompt):\n",
    "    input_ids = tokenizer.encode(prompt, return_tensors='pt')\n",
    "    attention_mask = torch.ones(input_ids.shape, dtype=torch.long)  # Create an attention mask (all ones)\n",
    "\n",
    "    output = model.generate(\n",
    "        input_ids=input_ids,\n",
    "        attention_mask=attention_mask,\n",
    "        max_length=512,\n",
    "        num_return_sequences=1,\n",
    "        temperature=0.7,\n",
    "        pad_token_id=tokenizer.pad_token_id\n",
    "    )\n",
    "\n",
    "    decoded_output = tokenizer.decode(output[0], skip_special_tokens=True) \n",
    "    \n",
    "    return decoded_output\n",
    "\n",
    "generate_aa_sequence('Pyruvate Dehydrogenase ')"
   ]
  },
  {
   "cell_type": "code",
   "execution_count": 50,
   "metadata": {},
   "outputs": [
    {
     "name": "stdout",
     "output_type": "stream",
     "text": [
      "Pyruvate Dehydrogenase : \n",
      "Pyruvate Dehydrogenase : ɛVVVVVVVVVVVVVVVVVVVVVVVVVVVVVVVVVVVVVVVVVVVVVVVVVVVVVVVVVVVVVVVVVVVVVVVVVVVVVVVVVVVVVVVVVVVVVVVVVVVVVVVVVVVVVVVVVVVVVVVVVVVVVVVVVVVVVVVVVVVVVVVVVVVVVVVVVVVVVVVVVVVVVVVVVVVVVVVVVVVVVVVVVVVVVVVVVVVVVVVVVVVVVVVVVVVVVVVVVVVVVVVVVVVVVVVVVVVVVVVVVVVVVVVVVVVVVVVVVVVVVVVVVVVVVVVVVVVVVVVVVVVVVVVVVVVVVVVVVVVVVVVVVVVVVVVVVVVVVVVVVVVVVVVVVVVVVVVVVVVVVVVVVVVVVVVVVVVVVVVVVVVVVVVVVVVVVVVVVVVVVVVVVVVVVVVVVVVVVVVVVVVVVVVVVVVVVVVVVVVVVVVVVVVVVVVVVVVVVVVVVVVVVVVVVVVVVVVVVVVVVVVVVVVVVVVVVVVVVVVVVVVVVVVVVVVVVVVVVVVV\n",
      "\n",
      "ATP Synthase : \n",
      "ATP Synthase : ɪ to,-- :-VQQQQQQQQQQQQQQQQQQQQQQQQQQQQQQQQQQQQQQQQQQQQQQQQQQQQQQQQQQQQQQQQQQQQQQQQQQQQQQQQQQQQQQQQQQQQQQQQQQQQQQQQQQQQQQQQQQQQQQQQQQQQQQQQQQQQQQQQQQQQQQQQQQQQQQQQQQQQQQQQQQQQQQQQQQQQQQQQQQQQQQQQQQQQQQQQQQQQQQQQQQQQQQQQQQQQQQQQQQQQQQQQQQQQQQQQQQQQQQQQQQQQQQQQQQQQQQQQQQQQQQQQQQQQQQQQQQQQQQQQQQQQQQQQQQQQQQQQQQQQQQQQQQQQQQQQQQQQQQQQQQQQQQQQQQQQQQQQQQQQQQQQQQQQQQQQQQQQQQQQQQQQQQQQQQQQQQQQQQQQQQQQQQQQQQQQQQQQQQQQQQQQQQQQQQQQQQQQQQQQQQQQQQQQQQQQQQQQQQQQQQQQQQQQQQQQQQQQQQQQQQQQQQQQQQQQQQQQQQQQQQQQQ\n",
      "\n",
      "Cytochrome C Oxidase : \n",
      "Cytochrome C Oxidase : ILKLKLKLKLKLKLKLKLKLKLKLKLKLKLKLKLKLKLKLKLKLKLKLKLKLKLKLKLKLKLKLKLKLKLKLKLKLKLKLKLKLKLKLKLKLKLKLKLKLKLKLKLKLKLKLKLKLKLKLKLKLKLKLKLKLKLKLKLKLKLKLKLKLKLKLKLKLKLKLKLKLKLKLKLKLKLKLKLKLKLKLKLKLKLKLKLKLKLKLKLKLKLKLKLKLKLKLKLKLKLKLKLKLKLKLKLKLKLKLKLKLKLKLKLKLKLKLKLKLKLKLKLKLKLKLKLKLKLKLKLKLKLKLKLKLKLKLKLKLKLKLKLKLKLKLKLKLKLKLKLKLKLKLKLKLKLKLKLKLKLKLKLKLKLKLKLKLKLKLKLKLKLKLKLKLKLKLKLKLKLKLKLKLKLKLKLKLKLKLKLKLKLKLKLKLKLKLKLKLKLKLKLKLKLKLKLKLKLKLKLKLKLKLKLKLKLKLKLKLKLKLKLKLKLKLKLKLKLKLKLKLKLKLKLKLKLKLKLKLKLKL\n",
      "\n",
      "NADH Dehydrogenase :\n",
      "NADH Dehydrogenase : SQSQSQSQSQSQQQQQQQQQQQQQQQQQQQQQQQQQQQQQQQQQQQQQQQQQQQQQQQQQQQQQQQQQQQQQQQQQQQQQQQQQQQQQQQQQQQQQQQQQQQQQQQQQQQQQQQQQQQQQQQQQQQQQQQQQQQQQQQQQQQQQQQQQQQQQQQQQQQQQQQQQQQQQQQQQQQQQQQQQQQQQQQQQQQQQQQQQQQQQQQQQQQQQQQQQQQQQQQQQQQQQQQQQQQQQQQQQQQQQQQQQQQQQQQQQQQQQQQQQQQQQQQQQQQQQQQQQQQQQQQQQQQQQQQQQQQQQQQQQQQQQQQQQQQQQQQQQQQQQQQQQQQQQQQQQQQQQQQQQQQQQQQQQQQQQQQQQQQQQQQQQQQQQQQQQQQQQQQQQQQQQQQQQQQQQQQQQQQQQQQQQQQQQQQQQQQQQQQQQQQQQQQQQQQQQQQQQQQQQQQQQQQQQQQQQQQQQQQQQQQQQQQQQQQQQQQQQQQQQQQQQQQQQQQQQQQQQQQQQQQQQ\n",
      "\n",
      "Succinate Dehydrogenase : \n",
      "Succinate Dehydrogenase : əQQQQQQQQQQQQQQQQQQQQQQQQQQQQQQQQQQQQQQQQQQQQQQQQQQQQQQQQQQQQQQQQQQQQQQQQQQQQQQQQQQQQQQQQQQQQQQQQQQQQQQQQQQQQQQQQQQQQQQQQQQQQQQQQQQQQQQQQQQQQQQQQQQQQQQQQQQQQQQQQQQQQQQQQQQQQQQQQQQQQQQQQQQQQQQQQQQQQQQQQQQQQQQQQQQQQQQQQQQQQQQQQQQQQQQQQQQQQQQQQQQQQQQQQQQQQQQQQQQQQQQQQQQQQQQQQQQQQQQQQQQQQQQQQQQQQQQQQQQQQQQQQQQQQQQQQQQQQQQQQQQQQQQQQQQQQQQQQQQQQQQQQQQQQQQQQQQQQQQQQQQQQQQQQQQQQQQQQQQQQQQQQQQQQQQQQQQQQQQQQQQQQQQQQQQQQQQQQQQQQQQQQQQQQQQQQQQQQQQQQQQQQQQQQQQQQQQQQQQQQQQQQQQQQQQQQQQQQQQQQQQQQQQQQQQQQQQQQQQQQQ\n",
      "\n"
     ]
    }
   ],
   "source": [
    "prompts = [\n",
    "    'Pyruvate Dehydrogenase : ', \n",
    "    'ATP Synthase : ', \n",
    "    'Cytochrome C Oxidase : ', \n",
    "    'NADH Dehydrogenase :', \n",
    "    'Succinate Dehydrogenase : '\n",
    "]\n",
    "\n",
    "for prompt in prompts:\n",
    "    print(prompt)\n",
    "    print(generate_aa_sequence(prompt))\n",
    "    print()"
   ]
  },
  {
   "cell_type": "code",
   "execution_count": null,
   "metadata": {},
   "outputs": [],
   "source": []
  }
 ],
 "metadata": {
  "kernelspec": {
   "display_name": "venv",
   "language": "python",
   "name": "python3"
  },
  "language_info": {
   "codemirror_mode": {
    "name": "ipython",
    "version": 3
   },
   "file_extension": ".py",
   "mimetype": "text/x-python",
   "name": "python",
   "nbconvert_exporter": "python",
   "pygments_lexer": "ipython3",
   "version": "3.10.2"
  }
 },
 "nbformat": 4,
 "nbformat_minor": 2
}
